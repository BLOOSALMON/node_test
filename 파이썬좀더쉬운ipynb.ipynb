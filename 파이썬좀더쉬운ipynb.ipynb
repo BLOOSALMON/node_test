{
  "nbformat": 4,
  "nbformat_minor": 0,
  "metadata": {
    "colab": {
      "provenance": [],
      "authorship_tag": "ABX9TyOZua63Dxm7/bQI2DK50yjn",
      "include_colab_link": true
    },
    "kernelspec": {
      "name": "python3",
      "display_name": "Python 3"
    },
    "language_info": {
      "name": "python"
    }
  },
  "cells": [
    {
      "cell_type": "markdown",
      "metadata": {
        "id": "view-in-github",
        "colab_type": "text"
      },
      "source": [
        "<a href=\"https://colab.research.google.com/github/BLOOSALMON/real_backjoon/blob/main/%ED%8C%8C%EC%9D%B4%EC%8D%AC%EC%A2%80%EB%8D%94%EC%89%AC%EC%9A%B4ipynb.ipynb\" target=\"_parent\"><img src=\"https://colab.research.google.com/assets/colab-badge.svg\" alt=\"Open In Colab\"/></a>"
      ]
    },
    {
      "cell_type": "code",
      "execution_count": null,
      "metadata": {
        "id": "6Dl7uJEwMle_"
      },
      "outputs": [],
      "source": [
        "# 지능형 기차2\n",
        "people = 0\n",
        "for i in range(4):\n",
        "  i, o = map(int, input())\n",
        "  if i - o > 0:\n",
        "    +=\n",
        "  else:\n",
        "    break\n",
        "\n",
        "# 음수가 나와도 그 다음에 더 큰 더하기가 나올 거라는 생각을 못함\n",
        "\n",
        "# 정답\n",
        "\n",
        "arr = []\n",
        "result = []\n",
        "for ii in range(4):\n",
        "  a, b =\n",
        "  result = reau;t - a + b\n",
        "  arr.append(result) # 매 역 값 저장\n",
        "print(max(arr))\n",
        "\n",
        "# 파이썬 101 부터\n"
      ]
    },
    {
      "cell_type": "code",
      "source": [
        "# 숫자의 개수\n",
        "A = int(input())\n",
        "B = int(input())\n",
        "C = int(input())\n",
        "mul = str(A*B*C)\n",
        "for i in range(10):\n",
        "  count = mul.count(str(i))\n",
        "  print(count)\n"
      ],
      "metadata": {
        "id": "OPCW97yOw0CR"
      },
      "execution_count": null,
      "outputs": []
    },
    {
      "cell_type": "code",
      "source": [
        "# 팩토리얼 0의 개수\n",
        "def factorial(n):\n",
        "  if n == 1 or n==0:\n",
        "    return 1\n",
        "  return n * factorial(n-1)\n",
        "\n",
        "N = int(input())\n",
        "count = 0\n",
        "num = str(factorial(N))\n",
        "\n",
        "\n",
        "for i in range(len(num), 0, -1):\n",
        "  if i == \"0\":\n",
        "    count += 1\n",
        "  else:\n",
        "    break\n",
        "print(count)\n"
      ],
      "metadata": {
        "colab": {
          "base_uri": "https://localhost:8080/"
        },
        "id": "BPQOovsSzfnD",
        "outputId": "ef572a5a-5274-4c8c-92d2-7ab659c188bc"
      },
      "execution_count": null,
      "outputs": [
        {
          "output_type": "stream",
          "name": "stdout",
          "text": [
            "10\n",
            "0\n"
          ]
        }
      ]
    },
    {
      "cell_type": "code",
      "source": [
        "# 규칙을 찾아서, 최대한 간단하게 코딩\n"
      ],
      "metadata": {
        "id": "PCpG-DYQ2_Uf"
      },
      "execution_count": null,
      "outputs": []
    },
    {
      "cell_type": "code",
      "source": [
        "alp = \"abcdefghijklmnopqrstuvwxyx\" # 한 문자열 취급 = > 리스트 해제\n",
        "ALP = \"ABCDEFGHIJKLMNOPQRSTUVWXYZ\"\n",
        "\n",
        "# 입력\n",
        "# 알파벳인지 아닌지\n",
        "# 대소문자\n",
        "# 인덱스 + 13\n",
        "\n",
        "N  = list(input())\n",
        "for i in N:\n",
        "  if i in alp:\n",
        "    N[i] = alp[i+13]\n",
        "  elif i in ALP:\n",
        "    N[i] = ALP[i+13]\n",
        "\n",
        "print(\"\".join(N))\n"
      ],
      "metadata": {
        "colab": {
          "base_uri": "https://localhost:8080/",
          "height": 236
        },
        "id": "w3NdexyW3iZk",
        "outputId": "0304f124-640b-4632-f0f1-35afe2fdff4a"
      },
      "execution_count": null,
      "outputs": [
        {
          "name": "stdout",
          "output_type": "stream",
          "text": [
            "Hello, World!\n"
          ]
        },
        {
          "output_type": "error",
          "ename": "TypeError",
          "evalue": "can only concatenate str (not \"int\") to str",
          "traceback": [
            "\u001b[0;31m---------------------------------------------------------------------------\u001b[0m",
            "\u001b[0;31mTypeError\u001b[0m                                 Traceback (most recent call last)",
            "\u001b[0;32m<ipython-input-10-7108fff5d6ad>\u001b[0m in \u001b[0;36m<cell line: 0>\u001b[0;34m()\u001b[0m\n\u001b[1;32m     12\u001b[0m     \u001b[0mN\u001b[0m\u001b[0;34m[\u001b[0m\u001b[0mi\u001b[0m\u001b[0;34m]\u001b[0m \u001b[0;34m=\u001b[0m \u001b[0malp\u001b[0m\u001b[0;34m[\u001b[0m\u001b[0mi\u001b[0m\u001b[0;34m+\u001b[0m\u001b[0;36m13\u001b[0m\u001b[0;34m]\u001b[0m\u001b[0;34m\u001b[0m\u001b[0;34m\u001b[0m\u001b[0m\n\u001b[1;32m     13\u001b[0m   \u001b[0;32melif\u001b[0m \u001b[0mi\u001b[0m \u001b[0;32min\u001b[0m \u001b[0mALP\u001b[0m\u001b[0;34m:\u001b[0m\u001b[0;34m\u001b[0m\u001b[0;34m\u001b[0m\u001b[0m\n\u001b[0;32m---> 14\u001b[0;31m     \u001b[0mN\u001b[0m\u001b[0;34m[\u001b[0m\u001b[0mi\u001b[0m\u001b[0;34m]\u001b[0m \u001b[0;34m=\u001b[0m \u001b[0mALP\u001b[0m\u001b[0;34m[\u001b[0m\u001b[0mi\u001b[0m\u001b[0;34m+\u001b[0m\u001b[0;36m13\u001b[0m\u001b[0;34m]\u001b[0m\u001b[0;34m\u001b[0m\u001b[0;34m\u001b[0m\u001b[0m\n\u001b[0m\u001b[1;32m     15\u001b[0m \u001b[0;34m\u001b[0m\u001b[0m\n\u001b[1;32m     16\u001b[0m \u001b[0mprint\u001b[0m\u001b[0;34m(\u001b[0m\u001b[0;34m\"\"\u001b[0m\u001b[0;34m.\u001b[0m\u001b[0mjoin\u001b[0m\u001b[0;34m(\u001b[0m\u001b[0mN\u001b[0m\u001b[0;34m)\u001b[0m\u001b[0;34m)\u001b[0m\u001b[0;34m\u001b[0m\u001b[0;34m\u001b[0m\u001b[0m\n",
            "\u001b[0;31mTypeError\u001b[0m: can only concatenate str (not \"int\") to str"
          ]
        }
      ]
    },
    {
      "cell_type": "code",
      "source": [
        "# 정답 : 아스키코드 이용\n",
        "arr = input()\n",
        "ans = ''\n",
        "for i in arr:\n",
        "  if i.islower():\n",
        "    print(chr(97+(ord(i)-97 +13)%26), end='')\n",
        "  elif i.isupper():\n",
        "    print(chr(65+(ord(i)-65+13)%26), end='')\n",
        "  else:\n",
        "    print(i, end=\"\") # 연속출력으로 따로 list로 바꿔서 안해도 됨\n"
      ],
      "metadata": {
        "id": "sOuPVJ0E4S8E"
      },
      "execution_count": null,
      "outputs": []
    },
    {
      "cell_type": "code",
      "source": [
        "while 1:\n",
        "  words = str(input())\n",
        "  if word = \"END\":\n",
        "    break\n",
        "  else:\n",
        "\n",
        "  words = input().split()\n",
        "  pop, deque rotate(len(4))\n",
        "  list[::-1]:\n",
        "  print(i,end= \"\")"
      ],
      "metadata": {
        "id": "UsTmnh4d9rRs"
      },
      "execution_count": null,
      "outputs": []
    },
    {
      "cell_type": "code",
      "source": [
        "# !밀비 급일\n",
        "\n",
        "while True:\n",
        "  passward =input()\n",
        "  if passward == \"END\":\n",
        "    break\n",
        "  else:\n",
        "    passward = passward[::-1]\n",
        "    print(passward)\n"
      ],
      "metadata": {
        "colab": {
          "base_uri": "https://localhost:8080/"
        },
        "id": "kDDL59Y7_Czg",
        "outputId": "a768650a-ba0e-4dcd-b05a-d38bb641363f"
      },
      "execution_count": null,
      "outputs": [
        {
          "name": "stdout",
          "output_type": "stream",
          "text": [
            "!edoc doog a tahW\n",
            "What a good code!\n",
            "END\n"
          ]
        }
      ]
    },
    {
      "cell_type": "code",
      "source": [
        "# 알파벳개수\n",
        "word = str(input())\n",
        "\n",
        "for i in range(97, 97+26+1):\n",
        "  print(word.count(chr(i)), end=\" \")"
      ],
      "metadata": {
        "colab": {
          "base_uri": "https://localhost:8080/"
        },
        "id": "7PKaMlhw_M7x",
        "outputId": "20c19488-64da-4212-ba9a-5cb27ae17512"
      },
      "execution_count": null,
      "outputs": [
        {
          "output_type": "stream",
          "name": "stdout",
          "text": [
            "beakjoon\n",
            "1 1 0 0 1 0 0 0 0 1 1 0 0 1 2 0 0 0 0 0 0 0 0 0 0 0 0 "
          ]
        }
      ]
    },
    {
      "cell_type": "code",
      "source": [
        "# 아이디어:\n",
        "# 0 배열 만든 후, 단어에 해당하는 아스키 인덱스-그냥 인덱스 변환 해 +1\n",
        "# => for 문 다 안돌아도 됨\n",
        "\n",
        "x = [0]*26\n",
        "\n",
        "for i in input():\n",
        "  x[ord(i)-97] += 1\n",
        "for i in x:\n",
        "  print(i, end = \" \")\n"
      ],
      "metadata": {
        "colab": {
          "base_uri": "https://localhost:8080/"
        },
        "id": "T09Zm9uOA-0V",
        "outputId": "43c85eca-a63f-4bc7-8924-5f96892fe088"
      },
      "execution_count": null,
      "outputs": [
        {
          "output_type": "stream",
          "name": "stdout",
          "text": [
            "beakjoon\n",
            "11001000011001200000000000"
          ]
        }
      ]
    },
    {
      "cell_type": "code",
      "source": [
        "# 알파벳 거리\n",
        "n = int(input())\n",
        "\n",
        "for _ in range(n):\n",
        "  N, M = list(map(list, input().split())) # maptype는 언패킹 불가능\n",
        "  print(\"Distances: \", end=\" \" )\n",
        "  for i in range(len(N)):\n",
        "    if ord(N[i]) <= ord(M[i]):\n",
        "      print(ord(M[i])-ord(N[i]), end=\" \") # 거리니까 -97 필요 없음\n",
        "    else:\n",
        "      print(ord(M[i]+26)-ord(N[i]), end=\" \")\n",
        "      # 아직이이ㅑ..\n"
      ],
      "metadata": {
        "id": "Xc6mg05BB5tJ"
      },
      "execution_count": null,
      "outputs": []
    }
  ]
}