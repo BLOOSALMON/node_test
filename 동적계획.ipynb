{
  "nbformat": 4,
  "nbformat_minor": 0,
  "metadata": {
    "colab": {
      "provenance": [],
      "authorship_tag": "ABX9TyMKsuLICrn6fUNhIbSXFvyG",
      "include_colab_link": true
    },
    "kernelspec": {
      "name": "python3",
      "display_name": "Python 3"
    },
    "language_info": {
      "name": "python"
    }
  },
  "cells": [
    {
      "cell_type": "markdown",
      "metadata": {
        "id": "view-in-github",
        "colab_type": "text"
      },
      "source": [
        "<a href=\"https://colab.research.google.com/github/BLOOSALMON/node_test/blob/main/%EB%8F%99%EC%A0%81%EA%B3%84%ED%9A%8D.ipynb\" target=\"_parent\"><img src=\"https://colab.research.google.com/assets/colab-badge.svg\" alt=\"Open In Colab\"/></a>"
      ]
    },
    {
      "cell_type": "code",
      "execution_count": null,
      "metadata": {
        "id": "N8ZqXispEENL"
      },
      "outputs": [],
      "source": [
        "#9416\n",
        "import sys\n",
        "arr = [0] * 100\n",
        "arr[0:4] = 1,1,1,2,2\n",
        "T = int(sys.stdin.readline())\n",
        "\n",
        "for i in range(5, 100):\n",
        "  arr[i] = arr[i-1] + arr[i-5]\n",
        "for j in range(0, T):\n",
        "  N = int(sys.stdin.readlinr())\n",
        "  print(arr[N-1])\n",
        "\n"
      ]
    },
    {
      "cell_type": "code",
      "source": [
        "# 1912\n",
        "N = int(input().split())\n",
        "max = -2001\n",
        "\n",
        "for i in rage(0, N-1):\n",
        "  if max > f[i] + f[i+1]:\n",
        "    max\n"
      ],
      "metadata": {
        "id": "9_JK054LGgvY"
      },
      "execution_count": null,
      "outputs": []
    },
    {
      "cell_type": "markdown",
      "source": [
        "동적 계획 : 겹치는 부분 문제 (동일한 적은 문제들 반복 등장)\n",
        "최적 부분 구조 : 부분 문제의 최적 결과 값을 사용해 전체 문제의 최적으리 결과를 낼 수 잇는 경우\n",
        "\n",
        "1. 최대, 최소, 조건 내 데이터 세기, 확률 등\n",
        "2. 문제 변수 파악\n",
        "3. 변수 간 점화식, 관계식\n",
        "4. 변수 값에 따른 결과 저장(메모)\n",
        "5. 기저 문제 확인 ( 가장 작은 것 )\n",
        "6. 반복문이나 재귀로 구현하기\n",
        " 1) botton up(반복) :  아래서부터 계산하고 누적\n",
        " 2) top-dowm(재귀) : 위에서부터 호출해 dp[0]까지 가고, 결과 값을 재귀를 통해 전이시키기. (이미 계산 완료된 값의 경우, memo 호출)\n"
      ],
      "metadata": {
        "id": "Ltcj-LqaXyY9"
      }
    },
    {
      "cell_type": "code",
      "source": [
        "# 1149\n",
        "N = int(input())\n",
        "for i in range(1, n):\n",
        "  dp[i][0] = min(dp[])\n"
      ],
      "metadata": {
        "id": "uOrGTycgXfSw"
      },
      "execution_count": null,
      "outputs": []
    },
    {
      "cell_type": "code",
      "source": [
        "# 1932\n",
        "\n",
        "for i in range(1, N):\n",
        " 합 += dp[i][i], i+1\n",
        " max cnffur\n",
        "\n",
        "\n",
        " for i in range(1, n):\n",
        "     for j in range(0, i+1):\n",
        "      if j == 0:\n",
        "        dp[i][0] +=\n",
        "      elif\n",
        "      else:\n",
        "        dp[i][j] += max(dp[i-1])"
      ],
      "metadata": {
        "id": "3K9wy9qmcPTt"
      },
      "execution_count": null,
      "outputs": []
    },
    {
      "cell_type": "code",
      "source": [
        "# 2579\n",
        "for i in range(1, N):\n",
        " 저장 = max( arr[i]+arr[i+1] >  arr[i] + arr[i+2])\n",
        " dp[i] = max(dp[i-3]+s[i-1]+s[i])\n"
      ],
      "metadata": {
        "id": "aqWXcuFPeC1e"
      },
      "execution_count": null,
      "outputs": []
    },
    {
      "cell_type": "code",
      "source": [
        "#1462\n",
        "for i in range(2, n+1):\n",
        "  d[i] = d[i-1] + 1\n",
        "  if\n",
        "\n"
      ],
      "metadata": {
        "id": "kzZUiUe8hEcE"
      },
      "execution_count": null,
      "outputs": []
    },
    {
      "cell_type": "code",
      "source": [
        "#12865\n",
        "N, K = map(int(input()))\n",
        "stuff = [[0,0]]\n",
        "knap = [[0 for _in range(K+1)] for _ in range(N+1)]\n",
        "\n",
        "for i in range(1, N+1):\n",
        "  for j in range(1, K+1):\n",
        "    weight = stuff[i][0]\n",
        "    value = stuff[i][1]\n",
        "\n",
        "    if j < weight:\n",
        "      knap[i][j] = 위에 값 그대로\n",
        "    else :\n",
        "      knapsack = max(value + knap[i-1][j-weight], knap[i-1][j])\n"
      ],
      "metadata": {
        "id": "rgiDQqH8jO_X"
      },
      "execution_count": null,
      "outputs": []
    },
    {
      "cell_type": "code",
      "source": [],
      "metadata": {
        "id": "yBsLE5mp7jCb"
      },
      "execution_count": null,
      "outputs": []
    },
    {
      "cell_type": "code",
      "source": [
        "# 9251\n",
        "for a in N:\n",
        "  for b in M:\n",
        "    if  a == b:\n",
        "       LSC += a\n",
        "       pop\n",
        "    중복 :\n",
        "    in N :\n",
        "    add\n"
      ],
      "metadata": {
        "id": "rDGXf1vb7JJp"
      },
      "execution_count": null,
      "outputs": []
    },
    {
      "cell_type": "code",
      "source": [
        "# 9251 정답\n",
        "for i in  range(1, len2 + 1):\n",
        "  for j in range(1, len2 + 1):\n",
        "    if str1[i-1] == std2[j-1]:\n",
        "      dp[i][j] = dp[i-1][j-1] + 1\n",
        "      else:\n",
        "        dp[i][j] = max(dp[i-1][j], dp[i][j-1])\n",
        "\n"
      ],
      "metadata": {
        "id": "ubFwOjqO-n6P"
      },
      "execution_count": null,
      "outputs": []
    },
    {
      "cell_type": "code",
      "source": [
        "# 2561\n",
        "n = int(input())\n",
        "lists = []\n",
        "dp = [1]*n\n",
        "\n",
        "for i in range(n):\n",
        "  a, b = map(int, input().split())\n",
        "  lists.append([a, b])\n",
        "\n",
        "lists.sort()\n",
        "\n",
        "for i in range(1, n):\n",
        "  for j in range(0, i):\n",
        "    if lists[j][1] < lists[i][1]:\n",
        "      dp[i] = max(dp[i], dp[j]+1)"
      ],
      "metadata": {
        "id": "zohqTU9q_JUJ"
      },
      "execution_count": null,
      "outputs": []
    },
    {
      "cell_type": "code",
      "source": [
        "# 11503\n",
        "\n",
        "for i in range(n):\n",
        "  for j in range(i):\n",
        "    if a[j] <  a[i]:\n",
        "      dp[i] = max(dp[i], dp[j]+ 1)"
      ],
      "metadata": {
        "id": "IECDkUw-Cb4H"
      },
      "execution_count": null,
      "outputs": []
    },
    {
      "cell_type": "code",
      "source": [
        "# 포도주\n",
        "dp[i] = max(dp[i-1], data[i-1]+data[i-1]+dp[i-3], data[i]+dp[i-2])"
      ],
      "metadata": {
        "id": "GeEhclxxFlmR"
      },
      "execution_count": null,
      "outputs": []
    },
    {
      "cell_type": "code",
      "source": [
        "# 쉬운 계단 수\n"
      ],
      "metadata": {
        "id": "2gidBBSBKOaq"
      },
      "execution_count": null,
      "outputs": []
    },
    {
      "cell_type": "code",
      "source": [
        "# 01 타일\n",
        "# 뒤부터\n",
        "\n",
        "df[k] = dp[k-1]  +dp[k-2]\n",
        "\n"
      ],
      "metadata": {
        "id": "vsFoyfcYM82K"
      },
      "execution_count": null,
      "outputs": []
    },
    {
      "cell_type": "code",
      "source": [
        "# 파도반 수열\n",
        "\n",
        "import sys\n",
        "# 변의 길이 출력\n",
        "\n",
        "arr = [0] * 100\n",
        "arr[0:4] = 1, 1, 1, 2, 2\n",
        "T = int(sys.stdin.readline())\n",
        "\n",
        "for o in range(5, 100):\n",
        "  arr[i] = arr[i-1] + arr[i-5]\n",
        "\n",
        "for j in range(0, T):\n",
        "  N = int(sys.stdin.readline())\n",
        "  print(arr[N-1])\n",
        "\n"
      ],
      "metadata": {
        "id": "3nayCzd2sS0H"
      },
      "execution_count": null,
      "outputs": []
    },
    {
      "cell_type": "code",
      "source": [
        "# 연속합\n",
        "dp = [0] * n\n",
        "arr = list(map(int, input().split()))\n",
        "dp[0] = arr[0]\n",
        "for i in range(1, n):\n",
        "\n",
        "  dp[i] = max(arr[i],dp[i-1]+arr[i]) # 지금 수보다 작게 만들면 더하는 의미가 없으므로, 큰 것만 선택. 다만 더해서 크다면 , 더한 것\n"
      ],
      "metadata": {
        "id": "s5HsYtEDty1W"
      },
      "execution_count": null,
      "outputs": []
    },
    {
      "cell_type": "code",
      "source": [
        "# 1463 bottom up\n",
        "한번 나눠질 때 최재한 작게.\n",
        "if N % 3 == 0:\n",
        "  N //= 3\n",
        "elif n % 2 == 0:\n",
        "  N //= 2\n",
        "else:\n",
        "  N - 1\n",
        "\n",
        "# dp 테이블 : 해당 수까지 오는 최소 횟수, 다음 칸은 그전 계산 단계횟수(dp[//3]) + 1\n",
        "dp = [0] * 100000001\n",
        "\n",
        "for i in range(2, N+1):\n",
        "  dp[i] = dp[i-1] + 1 # 1을 빼주는 경우\n",
        "\n",
        "  if i % 2 == 0 :\n",
        "    dp[i] = min(dp[i], dp[i//2] + 1)\n",
        "  if i % 3 == 0:\n",
        "    dp[i] = min(dp[i], dp[i//3] +1 )\n",
        "\n",
        "print(dp[N])"
      ],
      "metadata": {
        "id": "qCiSqcoFwnP9"
      },
      "execution_count": null,
      "outputs": []
    },
    {
      "cell_type": "code",
      "source": [
        "# 냅색\n",
        "\n",
        "N 번째 물건을 넣었을 때까지의 최대 가치 저장,\n",
        "뺄 때는 가치가 작은 것 빼기\n",
        "가치 순 정렬,"
      ],
      "metadata": {
        "id": "ytG8kvirzQMG"
      },
      "execution_count": null,
      "outputs": []
    }
  ]
}